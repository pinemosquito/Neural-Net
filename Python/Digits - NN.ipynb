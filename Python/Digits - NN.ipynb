{
 "cells": [
  {
   "cell_type": "code",
   "execution_count": 1,
   "metadata": {
    "collapsed": false
   },
   "outputs": [
    {
     "data": {
      "text/plain": [
       "'/Users/CreativeMindIV/Google Drive/Education/Statistical Learning - 2016/Kaggle - Digits'"
      ]
     },
     "execution_count": 1,
     "metadata": {},
     "output_type": "execute_result"
    }
   ],
   "source": [
    "import os\n",
    "# python2 print os.getcwd()\n",
    "# python3 print(os.getcwd))\n",
    "os.getcwd()"
   ]
  },
  {
   "cell_type": "code",
   "execution_count": 2,
   "metadata": {
    "collapsed": false
   },
   "outputs": [],
   "source": [
    "# mac os.chdir('/Users/CreativeMindIV/Google Drive/Education/Statistical Learning - 2016/Kaggle - Digits')\n",
    "# Windows os.getcwd().replace('\\\\','/')\n",
    "os.chdir('/Users/CreativeMindIV/Google Drive/Education/Statistical Learning - 2016/Kaggle - Digits')"
   ]
  },
  {
   "cell_type": "code",
   "execution_count": 3,
   "metadata": {
    "collapsed": false
   },
   "outputs": [
    {
     "name": "stderr",
     "output_type": "stream",
     "text": [
      "Using TensorFlow backend.\n"
     ]
    }
   ],
   "source": [
    "import pandas as pd\n",
    "import numpy as np\n",
    "\n",
    "from keras.models import Sequential\n",
    "from keras.utils import np_utils\n",
    "from keras.layers.core import Dense, Activation, Dropout\n",
    "from keras.constraints import maxnorm\n",
    "from keras.optimizers import SGD"
   ]
  },
  {
   "cell_type": "code",
   "execution_count": 4,
   "metadata": {
    "collapsed": true
   },
   "outputs": [],
   "source": [
    "# Read data\n",
    "train = pd.read_csv('train.csv')\n",
    "test = pd.read_csv('test.csv')"
   ]
  },
  {
   "cell_type": "code",
   "execution_count": 47,
   "metadata": {
    "collapsed": false
   },
   "outputs": [
    {
     "data": {
      "text/html": [
       "<div>\n",
       "<table border=\"1\" class=\"dataframe\">\n",
       "  <thead>\n",
       "    <tr style=\"text-align: right;\">\n",
       "      <th></th>\n",
       "      <th>Neighborhood</th>\n",
       "      <th>Beds</th>\n",
       "      <th>Baths</th>\n",
       "      <th>Size</th>\n",
       "    </tr>\n",
       "  </thead>\n",
       "  <tbody>\n",
       "    <tr>\n",
       "      <th>Blakely</th>\n",
       "      <td>Crest</td>\n",
       "      <td>3</td>\n",
       "      <td>3</td>\n",
       "      <td>2000</td>\n",
       "    </tr>\n",
       "    <tr>\n",
       "      <th>Laidlaw</th>\n",
       "      <td>Oak</td>\n",
       "      <td>4</td>\n",
       "      <td>4</td>\n",
       "      <td>2500</td>\n",
       "    </tr>\n",
       "    <tr>\n",
       "      <th>Springfield</th>\n",
       "      <td>Height</td>\n",
       "      <td>3</td>\n",
       "      <td>2</td>\n",
       "      <td>2100</td>\n",
       "    </tr>\n",
       "    <tr>\n",
       "      <th>Kaiser</th>\n",
       "      <td>Crescent</td>\n",
       "      <td>3</td>\n",
       "      <td>3</td>\n",
       "      <td>2000</td>\n",
       "    </tr>\n",
       "    <tr>\n",
       "      <th>Bethany</th>\n",
       "      <td>Arbor</td>\n",
       "      <td>4</td>\n",
       "      <td>3</td>\n",
       "      <td>2300</td>\n",
       "    </tr>\n",
       "  </tbody>\n",
       "</table>\n",
       "</div>"
      ],
      "text/plain": [
       "            Neighborhood  Beds  Baths  Size\n",
       "Blakely            Crest     3      3  2000\n",
       "Laidlaw              Oak     4      4  2500\n",
       "Springfield       Height     3      2  2100\n",
       "Kaiser          Crescent     3      3  2000\n",
       "Bethany            Arbor     4      3  2300"
      ]
     },
     "execution_count": 47,
     "metadata": {},
     "output_type": "execute_result"
    }
   ],
   "source": [
    "# indexing and selecting data with Pandas\n",
    "# define Data.Frame\n",
    "raw = {'Neighborhood': ['Crest', 'Oak', 'Height', 'Crescent', 'Arbor'],\n",
    "           'Beds': [3, 4, 3, 3, 4],\n",
    "           'Baths': [3, 4, 2, 3, 3],\n",
    "           'Size': [2000, 2500, 2100, 2000, 2300]\n",
    "           }\n",
    "df = pd.DataFrame(raw, \n",
    "        columns = ['Neighborhood', 'Beds', 'Baths', 'Size'], \n",
    "        index=['Blakely', 'Laidlaw', 'Springfield', 'Kaiser','Bethany'])\n",
    "df"
   ]
  },
  {
   "cell_type": "code",
   "execution_count": 79,
   "metadata": {
    "collapsed": false
   },
   "outputs": [
    {
     "data": {
      "text/plain": [
       "Blakely        3\n",
       "Laidlaw        4\n",
       "Springfield    3\n",
       "Kaiser         3\n",
       "Bethany        4\n",
       "Name: Beds, dtype: int64"
      ]
     },
     "execution_count": 79,
     "metadata": {},
     "output_type": "execute_result"
    }
   ],
   "source": [
    "# SELECT COLUMN(S) BY INDEX LABEL\n",
    "df.loc[:,'Beds']"
   ]
  },
  {
   "cell_type": "code",
   "execution_count": 74,
   "metadata": {
    "collapsed": false
   },
   "outputs": [
    {
     "data": {
      "text/plain": [
       "Neighborhood    Crest\n",
       "Beds                3\n",
       "Baths               3\n",
       "Size             2000\n",
       "Name: Blakely, dtype: object"
      ]
     },
     "execution_count": 74,
     "metadata": {},
     "output_type": "execute_result"
    }
   ],
   "source": [
    "# SELECT ROW(S) BY INDEX LABEL\n",
    "df.loc['Blakely', :]"
   ]
  },
  {
   "cell_type": "code",
   "execution_count": 76,
   "metadata": {
    "collapsed": false
   },
   "outputs": [
    {
     "data": {
      "text/plain": [
       "Neighborhood    Crest\n",
       "Beds                3\n",
       "Baths               3\n",
       "Size             2000\n",
       "Name: Blakely, dtype: object"
      ]
     },
     "execution_count": 76,
     "metadata": {},
     "output_type": "execute_result"
    }
   ],
   "source": [
    "# SELECT ROW(S) BY POSITION INDEX\n",
    "df.iloc[0,:]"
   ]
  },
  {
   "cell_type": "code",
   "execution_count": 78,
   "metadata": {
    "collapsed": false
   },
   "outputs": [
    {
     "data": {
      "text/plain": [
       "Blakely        3\n",
       "Laidlaw        4\n",
       "Springfield    3\n",
       "Kaiser         3\n",
       "Bethany        4\n",
       "Name: Beds, dtype: int64"
      ]
     },
     "execution_count": 78,
     "metadata": {},
     "output_type": "execute_result"
    }
   ],
   "source": [
    "# SELECT COLUMN(S) by POSITION INDEX\n",
    "df.iloc[:,1]"
   ]
  },
  {
   "cell_type": "code",
   "execution_count": 72,
   "metadata": {
    "collapsed": false
   },
   "outputs": [
    {
     "data": {
      "text/plain": [
       "Blakely        3\n",
       "Laidlaw        4\n",
       "Springfield    3\n",
       "Kaiser         3\n",
       "Bethany        4\n",
       "Name: Beds, dtype: int64"
      ]
     },
     "execution_count": 72,
     "metadata": {},
     "output_type": "execute_result"
    }
   ],
   "source": [
    "# SELECT COLUMN(S) USING GENERAL INDEXING\n",
    "df.ix[:,1]"
   ]
  },
  {
   "cell_type": "code",
   "execution_count": 67,
   "metadata": {
    "collapsed": false
   },
   "outputs": [
    {
     "data": {
      "text/plain": [
       "array([3, 4, 3, 3, 4])"
      ]
     },
     "execution_count": 67,
     "metadata": {},
     "output_type": "execute_result"
    }
   ],
   "source": [
    "# df.ix[ , ].values convert into array\n",
    "df.ix[:,1].values"
   ]
  },
  {
   "cell_type": "code",
   "execution_count": 80,
   "metadata": {
    "collapsed": false
   },
   "outputs": [
    {
     "data": {
      "text/plain": [
       "array([ 3.,  4.,  3.,  3.,  4.], dtype=float32)"
      ]
     },
     "execution_count": 80,
     "metadata": {},
     "output_type": "execute_result"
    }
   ],
   "source": [
    "df.ix[:,1].values.astype('float32')"
   ]
  },
  {
   "cell_type": "code",
   "execution_count": 32,
   "metadata": {
    "collapsed": true
   },
   "outputs": [],
   "source": [
    "labels = train.ix[:,0].values.astype('int32')\n",
    "X_train = (train.ix[:,1:].values).astype('float32')\n",
    "X_test = (test.values).astype('float32')"
   ]
  },
  {
   "cell_type": "code",
   "execution_count": 33,
   "metadata": {
    "collapsed": true
   },
   "outputs": [],
   "source": [
    "# convert list of labels to binary class matrix\n",
    "y_train = np_utils.to_categorical(labels) "
   ]
  },
  {
   "cell_type": "code",
   "execution_count": 34,
   "metadata": {
    "collapsed": true
   },
   "outputs": [],
   "source": [
    "# pre-processing: divide by max and substract mean\n",
    "scale = np.max(X_train)\n",
    "X_train /= scale\n",
    "X_test /= scale\n",
    "\n",
    "mean = np.std(X_train)\n",
    "X_train -= mean\n",
    "X_test -= mean"
   ]
  },
  {
   "cell_type": "code",
   "execution_count": 35,
   "metadata": {
    "collapsed": false
   },
   "outputs": [
    {
     "data": {
      "text/plain": [
       "array([-0.30853882, -0.30853882, -0.30853882, -0.30853882, -0.30853882,\n",
       "       -0.30853882, -0.30853882, -0.30853882, -0.30853882, -0.30853882,\n",
       "       -0.30853882, -0.30853882, -0.30853882, -0.30853882, -0.30853882,\n",
       "       -0.30853882, -0.30853882, -0.30853882, -0.30853882, -0.30853882,\n",
       "       -0.30853882, -0.30853882, -0.30853882, -0.30853882, -0.30853882,\n",
       "       -0.30853882, -0.30853882, -0.30853882, -0.30853882, -0.30853882,\n",
       "       -0.30853882, -0.30853882, -0.30853882, -0.30853882, -0.30853882,\n",
       "       -0.30853882, -0.30853882, -0.30853882, -0.30853882, -0.30853882,\n",
       "       -0.30853882, -0.30853882, -0.30853882, -0.30853882, -0.30853882,\n",
       "       -0.30853882, -0.30853882, -0.30853882, -0.30853882, -0.30853882,\n",
       "       -0.30853882, -0.30853882, -0.30853882, -0.30853882, -0.30853882,\n",
       "       -0.30853882, -0.30853882, -0.30853882, -0.30853882, -0.30853882,\n",
       "       -0.30853882, -0.30853882, -0.30853882, -0.30853882, -0.30853882,\n",
       "       -0.30853882, -0.30853882, -0.30853882, -0.30853882, -0.30853882,\n",
       "       -0.30853882, -0.30853882, -0.30853882, -0.30853882, -0.30853882,\n",
       "       -0.30853882, -0.30853882, -0.30853882, -0.30853882, -0.30853882,\n",
       "       -0.30853882, -0.30853882, -0.30853882, -0.30853882, -0.30853882,\n",
       "       -0.30853882, -0.30853882, -0.30853882, -0.30853882, -0.30853882,\n",
       "       -0.30853882, -0.30853882, -0.30853882, -0.30853882, -0.30853882,\n",
       "       -0.30853882, -0.30853882, -0.30853882, -0.30853882, -0.30853882,\n",
       "       -0.30853882, -0.30853882, -0.30853882, -0.30853882, -0.30853882,\n",
       "       -0.30853882, -0.30853882, -0.30853882, -0.30853882, -0.30853882,\n",
       "       -0.30853882, -0.30853882, -0.30853882, -0.30853882, -0.30853882,\n",
       "       -0.30853882, -0.30853882, -0.30853882, -0.30853882, -0.30853882,\n",
       "       -0.30853882, -0.30853882, -0.30853882, -0.30853882, -0.30853882,\n",
       "       -0.30853882, -0.30853882, -0.30853882, -0.30853882, -0.30853882,\n",
       "       -0.30853882, -0.30853882,  0.42871609,  0.69146121,  0.06008863,\n",
       "       -0.30853882, -0.30853882, -0.30853882, -0.30853882, -0.30853882,\n",
       "       -0.30853882, -0.30853882, -0.30853882, -0.30853882, -0.30853882,\n",
       "       -0.30853882, -0.30853882, -0.30853882, -0.30853882, -0.30853882,\n",
       "       -0.30853882, -0.30853882, -0.30853882, -0.30853882, -0.30853882,\n",
       "       -0.30853882, -0.30853882, -0.30853882, -0.30853882,  0.4404808 ,\n",
       "        0.6718533 ,  0.68361807,  0.05616707, -0.30853882, -0.30853882,\n",
       "       -0.30853882, -0.30853882, -0.30853882, -0.30853882, -0.30853882,\n",
       "       -0.30853882, -0.30853882, -0.30853882, -0.30853882, -0.30853882,\n",
       "       -0.30853882, -0.30853882, -0.30853882, -0.30853882, -0.30853882,\n",
       "       -0.30853882, -0.30853882, -0.30853882, -0.30853882, -0.30853882,\n",
       "       -0.30853882,  0.17381412,  0.66401017,  0.68361807,  0.34636316,\n",
       "       -0.26932314, -0.30853882, -0.30853882, -0.30853882, -0.30853882,\n",
       "       -0.30853882, -0.30853882, -0.30853882, -0.30853882, -0.30853882,\n",
       "       -0.30853882, -0.30853882, -0.30853882, -0.30853882, -0.30853882,\n",
       "       -0.30853882, -0.30853882, -0.30853882, -0.30853882, -0.30853882,\n",
       "       -0.30853882, -0.30853882, -0.30853882,  0.00518668,  0.66008866,\n",
       "        0.68361807,  0.50714743, -0.25755844, -0.30853882, -0.30853882,\n",
       "       -0.30853882, -0.30853882, -0.30853882, -0.30853882, -0.30853882,\n",
       "       -0.30853882, -0.30853882, -0.30853882, -0.30853882, -0.30853882,\n",
       "       -0.30853882, -0.30853882, -0.30853882, -0.30853882, -0.30853882,\n",
       "       -0.30853882, -0.30853882, -0.30853882, -0.30853882, -0.30853882,\n",
       "       -0.19481334,  0.50322592,  0.68361807,  0.61302984, -0.00657803,\n",
       "       -0.30853882, -0.30853882, -0.30853882, -0.30853882, -0.30853882,\n",
       "       -0.30853882, -0.30853882, -0.30853882, -0.30853882, -0.30853882,\n",
       "       -0.30853882, -0.30853882, -0.30853882, -0.30853882, -0.30853882,\n",
       "       -0.30853882, -0.30853882, -0.30853882, -0.30853882, -0.30853882,\n",
       "       -0.30853882, -0.30853882, -0.09677412,  0.51106906,  0.68361807,\n",
       "        0.68361807,  0.03655922, -0.30853882, -0.30853882, -0.30853882,\n",
       "       -0.30853882, -0.30853882, -0.30853882, -0.30853882, -0.30853882,\n",
       "       -0.30853882, -0.30853882, -0.30853882, -0.30853882, -0.30853882,\n",
       "       -0.30853882, -0.30853882, -0.30853882, -0.30853882, -0.30853882,\n",
       "       -0.30853882, -0.30853882, -0.30853882, -0.30853882,  0.05616707,\n",
       "        0.68753958,  0.68361807,  0.62479448,  0.35812786, -0.24187216,\n",
       "       -0.30853882, -0.30853882, -0.30853882, -0.30853882, -0.30853882,\n",
       "       -0.30853882, -0.30853882, -0.30853882, -0.30853882, -0.30853882,\n",
       "       -0.30853882, -0.30853882, -0.30853882, -0.30853882, -0.30853882,\n",
       "       -0.30853882, -0.30853882, -0.30853882, -0.30853882, -0.30853882,\n",
       "       -0.30853882, -0.21834275,  0.51499057,  0.68753958,  0.68361807,\n",
       "        0.31499061, -0.30853882, -0.30853882, -0.30853882, -0.30853882,\n",
       "       -0.30853882, -0.30853882, -0.30853882, -0.30853882, -0.30853882,\n",
       "       -0.30853882, -0.30853882, -0.30853882, -0.30853882, -0.30853882,\n",
       "       -0.30853882, -0.30853882, -0.30853882, -0.30853882, -0.30853882,\n",
       "       -0.30853882, -0.30853882, -0.30853882, -0.24579373,  0.51106906,\n",
       "        0.68361807,  0.68753958,  0.63263762,  0.00910825, -0.30853882,\n",
       "       -0.30853882, -0.30853882, -0.30853882, -0.30853882, -0.30853882,\n",
       "       -0.30853882, -0.30853882, -0.30853882, -0.30853882, -0.30853882,\n",
       "       -0.30853882, -0.30853882, -0.30853882, -0.30853882, -0.30853882,\n",
       "       -0.30853882, -0.30853882, -0.30853882, -0.30853882, -0.30853882,\n",
       "       -0.30853882, -0.20265648,  0.68361807,  0.68361807,  0.68753958,\n",
       "       -0.25755844, -0.30853882, -0.30853882, -0.30853882, -0.30853882,\n",
       "       -0.30853882, -0.30853882, -0.30853882, -0.30853882, -0.30853882,\n",
       "       -0.30853882, -0.30853882, -0.30853882, -0.30853882, -0.30853882,\n",
       "       -0.30853882, -0.30853882, -0.30853882, -0.30853882, -0.30853882,\n",
       "       -0.30853882, -0.30853882, -0.30853882, -0.23010746,  0.49930432,\n",
       "        0.68753958,  0.68753958,  0.46793178, -0.28108785, -0.30853882,\n",
       "       -0.30853882, -0.30853882, -0.30853882, -0.30853882, -0.30853882,\n",
       "       -0.30853882, -0.30853882, -0.30853882, -0.30853882, -0.30853882,\n",
       "       -0.30853882, -0.30853882, -0.30853882, -0.30853882, -0.30853882,\n",
       "       -0.30853882, -0.30853882, -0.30853882, -0.30853882, -0.30853882,\n",
       "       -0.30853882,  0.35028473,  0.68361807,  0.68361807,  0.46008864,\n",
       "       -0.28108785, -0.30853882, -0.30853882, -0.30853882, -0.30853882,\n",
       "       -0.30853882, -0.30853882, -0.30853882, -0.30853882, -0.30853882,\n",
       "       -0.30853882, -0.30853882, -0.30853882, -0.30853882, -0.30853882,\n",
       "       -0.30853882, -0.30853882, -0.30853882, -0.30853882, -0.30853882,\n",
       "       -0.30853882, -0.30853882, -0.30853882, -0.23010746,  0.48753962,\n",
       "        0.68361807,  0.66401017, -0.0104996 , -0.30853882, -0.30853882,\n",
       "       -0.30853882, -0.30853882, -0.30853882, -0.30853882, -0.30853882,\n",
       "       -0.30853882, -0.30853882, -0.30853882, -0.30853882, -0.30853882,\n",
       "       -0.30853882, -0.30853882, -0.30853882, -0.30853882, -0.30853882,\n",
       "       -0.30853882, -0.30853882, -0.30853882, -0.30853882, -0.30853882,\n",
       "       -0.22226432,  0.42871609,  0.68361807,  0.65224552,  0.05616707,\n",
       "       -0.30853882, -0.30853882, -0.30853882, -0.30853882, -0.30853882,\n",
       "       -0.30853882, -0.30853882, -0.30853882, -0.30853882, -0.30853882,\n",
       "       -0.30853882, -0.30853882, -0.30853882, -0.30853882, -0.30853882,\n",
       "       -0.30853882, -0.30853882, -0.30853882, -0.30853882, -0.30853882,\n",
       "       -0.30853882, -0.30853882, -0.30853882,  0.09538275,  0.68361807,\n",
       "        0.68361807,  0.4404808 , -0.30853882, -0.30853882, -0.30853882,\n",
       "       -0.30853882, -0.30853882, -0.30853882, -0.30853882, -0.30853882,\n",
       "       -0.30853882, -0.30853882, -0.30853882, -0.30853882, -0.30853882,\n",
       "       -0.30853882, -0.30853882, -0.30853882, -0.30853882, -0.30853882,\n",
       "       -0.30853882, -0.30853882, -0.30853882, -0.30853882, -0.30853882,\n",
       "        0.04048079,  0.63263762,  0.68361807,  0.45616707, -0.21049961,\n",
       "       -0.30853882, -0.30853882, -0.30853882, -0.30853882, -0.30853882,\n",
       "       -0.30853882, -0.30853882, -0.30853882, -0.30853882, -0.30853882,\n",
       "       -0.30853882, -0.30853882, -0.30853882, -0.30853882, -0.30853882,\n",
       "       -0.30853882, -0.30853882, -0.30853882, -0.30853882, -0.30853882,\n",
       "       -0.30853882, -0.30853882, -0.2497153 ,  0.55420625,  0.68361807,\n",
       "        0.68361807,  0.00518668, -0.30853882, -0.30853882, -0.30853882,\n",
       "       -0.30853882, -0.30853882, -0.30853882, -0.30853882, -0.30853882,\n",
       "       -0.30853882, -0.30853882, -0.30853882, -0.30853882, -0.30853882,\n",
       "       -0.30853882, -0.30853882, -0.30853882, -0.30853882, -0.30853882,\n",
       "       -0.30853882, -0.30853882, -0.30853882, -0.30853882, -0.30853882,\n",
       "        0.06008863,  0.68361807,  0.68361807,  0.68361807,  0.06008863,\n",
       "       -0.30853882, -0.30853882, -0.30853882, -0.30853882, -0.30853882,\n",
       "       -0.30853882, -0.30853882, -0.30853882, -0.30853882, -0.30853882,\n",
       "       -0.30853882, -0.30853882, -0.30853882, -0.30853882, -0.30853882,\n",
       "       -0.30853882, -0.30853882, -0.30853882, -0.30853882, -0.30853882,\n",
       "       -0.30853882, -0.30853882, -0.30853882,  0.04048079,  0.67577493,\n",
       "        0.68361807,  0.6718533 ,  0.20518669, -0.30853882, -0.30853882,\n",
       "       -0.30853882, -0.30853882, -0.30853882, -0.30853882, -0.30853882,\n",
       "       -0.30853882, -0.30853882, -0.30853882, -0.30853882, -0.30853882,\n",
       "       -0.30853882, -0.30853882, -0.30853882, -0.30853882, -0.30853882,\n",
       "       -0.30853882, -0.30853882, -0.30853882, -0.30853882, -0.30853882,\n",
       "       -0.30853882, -0.30853882,  0.53067684,  0.54636312,  0.0640102 ,\n",
       "       -0.30853882, -0.30853882, -0.30853882, -0.30853882, -0.30853882,\n",
       "       -0.30853882, -0.30853882, -0.30853882, -0.30853882, -0.30853882,\n",
       "       -0.30853882, -0.30853882, -0.30853882, -0.30853882, -0.30853882,\n",
       "       -0.30853882, -0.30853882, -0.30853882, -0.30853882, -0.30853882,\n",
       "       -0.30853882, -0.30853882, -0.30853882, -0.30853882, -0.30853882,\n",
       "       -0.30853882, -0.30853882, -0.30853882, -0.30853882, -0.30853882,\n",
       "       -0.30853882, -0.30853882, -0.30853882, -0.30853882, -0.30853882,\n",
       "       -0.30853882, -0.30853882, -0.30853882, -0.30853882, -0.30853882,\n",
       "       -0.30853882, -0.30853882, -0.30853882, -0.30853882, -0.30853882,\n",
       "       -0.30853882, -0.30853882, -0.30853882, -0.30853882, -0.30853882,\n",
       "       -0.30853882, -0.30853882, -0.30853882, -0.30853882, -0.30853882,\n",
       "       -0.30853882, -0.30853882, -0.30853882, -0.30853882, -0.30853882,\n",
       "       -0.30853882, -0.30853882, -0.30853882, -0.30853882, -0.30853882,\n",
       "       -0.30853882, -0.30853882, -0.30853882, -0.30853882, -0.30853882,\n",
       "       -0.30853882, -0.30853882, -0.30853882, -0.30853882, -0.30853882,\n",
       "       -0.30853882, -0.30853882, -0.30853882, -0.30853882, -0.30853882,\n",
       "       -0.30853882, -0.30853882, -0.30853882, -0.30853882, -0.30853882,\n",
       "       -0.30853882, -0.30853882, -0.30853882, -0.30853882, -0.30853882,\n",
       "       -0.30853882, -0.30853882, -0.30853882, -0.30853882, -0.30853882,\n",
       "       -0.30853882, -0.30853882, -0.30853882, -0.30853882, -0.30853882,\n",
       "       -0.30853882, -0.30853882, -0.30853882, -0.30853882, -0.30853882,\n",
       "       -0.30853882, -0.30853882, -0.30853882, -0.30853882, -0.30853882,\n",
       "       -0.30853882, -0.30853882, -0.30853882, -0.30853882, -0.30853882,\n",
       "       -0.30853882, -0.30853882, -0.30853882, -0.30853882, -0.30853882,\n",
       "       -0.30853882, -0.30853882, -0.30853882, -0.30853882, -0.30853882,\n",
       "       -0.30853882, -0.30853882, -0.30853882, -0.30853882], dtype=float32)"
      ]
     },
     "execution_count": 35,
     "metadata": {},
     "output_type": "execute_result"
    }
   ],
   "source": [
    "X_train[0,:]"
   ]
  },
  {
   "cell_type": "code",
   "execution_count": 36,
   "metadata": {
    "collapsed": true
   },
   "outputs": [],
   "source": [
    "input_dim = X_train.shape[1]\n",
    "nb_classes = y_train.shape[1]"
   ]
  },
  {
   "cell_type": "code",
   "execution_count": 84,
   "metadata": {
    "collapsed": false
   },
   "outputs": [],
   "source": [
    "# Here's a Deep Dumb MLP (DDMLP)\n",
    "# dropout is a regularization method for neural net\n",
    "# The dropout rate of 20% or one in 5 inputs will be randomly excluded from each update cycle.\n",
    "# additionally, we impose constraint on weight for each hidden layer\n",
    "# to make sure that maximum norm of weight does not exceed value of 3\n",
    "# this is done W_constraint = maxnorm(3)\n",
    "\n",
    "model = Sequential()\n",
    "model.add(Dense(128, input_dim=input_dim, init='normal', W_constraint=maxnorm(3)))\n",
    "model.add(Activation('relu'))\n",
    "model.add(Dropout(0.20))\n",
    "model.add(Dense(128, init='normal', W_constraint=maxnorm(3)))\n",
    "model.add(Activation('relu'))\n",
    "model.add(Dropout(0.20))\n",
    "model.add(Dense(nb_classes))\n",
    "model.add(Activation('softmax'))"
   ]
  },
  {
   "cell_type": "code",
   "execution_count": 92,
   "metadata": {
    "collapsed": false
   },
   "outputs": [
    {
     "name": "stdout",
     "output_type": "stream",
     "text": [
      "Training...\n",
      "Train on 37800 samples, validate on 4200 samples\n",
      "Epoch 1/10\n",
      "4s - loss: 0.0751 - val_loss: 0.0897\n",
      "Epoch 2/10\n",
      "3s - loss: 0.0740 - val_loss: 0.0905\n",
      "Epoch 3/10\n",
      "3s - loss: 0.0742 - val_loss: 0.0896\n",
      "Epoch 4/10\n",
      "4s - loss: 0.0732 - val_loss: 0.0886\n",
      "Epoch 5/10\n",
      "3s - loss: 0.0745 - val_loss: 0.0897\n",
      "Epoch 6/10\n",
      "3s - loss: 0.0735 - val_loss: 0.0897\n",
      "Epoch 7/10\n",
      "3s - loss: 0.0732 - val_loss: 0.0892\n",
      "Epoch 8/10\n",
      "4s - loss: 0.0726 - val_loss: 0.0878\n",
      "Epoch 9/10\n",
      "3s - loss: 0.0719 - val_loss: 0.0883\n",
      "Epoch 10/10\n",
      "3s - loss: 0.0710 - val_loss: 0.0882\n",
      "Generating test predictions...\n"
     ]
    }
   ],
   "source": [
    "# we'll use categorical crossentropy for the loss, and sgd as the optimizer\n",
    "sgd = SGD(lr=0.1, momentum=0.9, decay=0.0, nesterov=False)\n",
    "# model.compile(loss='categorical_crossentropy', optimizer='rmsprop')\n",
    "model.compile(loss='categorical_crossentropy', optimizer='sgd')\n",
    "\n",
    "print(\"Training...\")\n",
    "model.fit(X_train, y_train, nb_epoch=10, batch_size=100, validation_split=0.10, show_accuracy=True, verbose=2)\n",
    "\n",
    "print(\"Generating test predictions...\")\n",
    "preds = model.predict_classes(X_test, verbose=0)"
   ]
  },
  {
   "cell_type": "code",
   "execution_count": 93,
   "metadata": {
    "collapsed": true
   },
   "outputs": [],
   "source": [
    "def write_preds(preds, fname):\n",
    "    pd.DataFrame({\"ImageId\": list(range(1,len(preds)+1)), \"Label\": preds}).to_csv(fname, index=False, header=True)\n",
    "\n",
    "write_preds(preds, \"keras-mlp.csv\")\n",
    "# rank 998 (0.96529), dropout = 0.15\n",
    "# rank 1007 (0.96529) dropout = 0.20, init='normal', W_constraint = maxnorm(3)\n",
    "# add sgd, lr=0.01, momentum=0.8, Dense(128) epoch=10 rank 703 (0.9730)\n",
    "# lr=0.01, momentum=0.9 Dense(128) epoch=10 rank 671 (0.97429)\n",
    "# lr=0.01, momentum=0.9 Dense(128*2) epoch=10... rank 671 (0.97429)\n",
    "# lr=0.1, momentum=0.9 Dense(128) epoch = 10...rank 671 (0.97429)\n",
    "# lr=0.1, momentum=0.9 Dense(128) epoch = 10, nesterov=True\n",
    "# same but Dense = 512, rank 674 (0.97429)\n",
    "# back to Dense = 128, increase validation split from 0.1 to 0.3\n",
    "# back to validation split 0.15.  Increase batch size from 16 to 100. 0.97029\n",
    "# reset nesterov = False. 0.97043"
   ]
  }
 ],
 "metadata": {
  "anaconda-cloud": {},
  "kernelspec": {
   "display_name": "Python [Root]",
   "language": "python",
   "name": "Python [Root]"
  },
  "language_info": {
   "codemirror_mode": {
    "name": "ipython",
    "version": 2
   },
   "file_extension": ".py",
   "mimetype": "text/x-python",
   "name": "python",
   "nbconvert_exporter": "python",
   "pygments_lexer": "ipython2",
   "version": "2.7.12"
  }
 },
 "nbformat": 4,
 "nbformat_minor": 0
}
